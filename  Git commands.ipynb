{
 "cells": [
  {
   "cell_type": "markdown",
   "id": "9a2f30b9-d5c8-487a-bdbf-bec3d7f1161a",
   "metadata": {},
   "source": [
    "# Git commands"
   ]
  },
  {
   "cell_type": "markdown",
   "id": "c594a2b5-6926-4945-942a-a76c5c835142",
   "metadata": {},
   "source": [
    "## 1. Setting Up a Repository\n"
   ]
  },
  {
   "cell_type": "markdown",
   "id": "de8597e6-3437-4f7b-b9dd-26e90bd13078",
   "metadata": {},
   "source": [
    "### Initialize a new Git repository\n"
   ]
  },
  {
   "cell_type": "markdown",
   "id": "6c107af0-82d0-4dc4-8464-e312655c6811",
   "metadata": {},
   "source": [
    "#### git init"
   ]
  },
  {
   "cell_type": "markdown",
   "id": "be27c68e-6020-4cd9-a85e-ac468595f8f2",
   "metadata": {},
   "source": [
    "### Clone an existing repository"
   ]
  },
  {
   "cell_type": "markdown",
   "id": "11b1d4e6-4d42-4abf-9625-8cd330f1de6c",
   "metadata": {},
   "source": [
    "#### git clone <repository_url>\n"
   ]
  },
  {
   "cell_type": "markdown",
   "id": "162fec2b-3b3a-4e03-8eab-a38deb17e752",
   "metadata": {},
   "source": [
    "## 2. Basic Configuration"
   ]
  },
  {
   "cell_type": "markdown",
   "id": "2227bdc4-d9db-4774-a99b-3755e542796e",
   "metadata": {},
   "source": [
    "### Set your name"
   ]
  },
  {
   "cell_type": "markdown",
   "id": "122ae4b8-e349-4891-99f1-a9fa1c4d25b8",
   "metadata": {},
   "source": [
    "##### git config --global user.name \"Your Name\"\n"
   ]
  },
  {
   "cell_type": "markdown",
   "id": "7663cea7-05b9-444f-9f8f-ce9ab76bdffc",
   "metadata": {},
   "source": [
    "#### Set your email"
   ]
  },
  {
   "cell_type": "markdown",
   "id": "09556c1e-813c-4920-81fa-83e4cb8ce4b5",
   "metadata": {},
   "source": [
    "##### git config --global user.email \"you@example.com\"\n"
   ]
  },
  {
   "cell_type": "markdown",
   "id": "a1b62e38-727e-4e9c-a709-88e408f3f98c",
   "metadata": {},
   "source": [
    "### 3. Staging and Committing Changes"
   ]
  },
  {
   "cell_type": "markdown",
   "id": "e6d55922-db3a-4cbd-bfb3-5a19412e4c65",
   "metadata": {},
   "source": [
    "#### Check the status of your repository"
   ]
  },
  {
   "cell_type": "markdown",
   "id": "ca5c97ea-bbcf-4f2b-b352-042a09c195ce",
   "metadata": {},
   "source": [
    "##### git status\n"
   ]
  },
  {
   "cell_type": "markdown",
   "id": "42ea606d-aa4c-462e-8925-22c79507fad8",
   "metadata": {},
   "source": [
    "#### Add a single file to staging\n",
    "\n"
   ]
  },
  {
   "cell_type": "markdown",
   "id": "f3ba8d53-0edb-43d9-871a-6a343ed91245",
   "metadata": {},
   "source": [
    "#### git add <file_name>\n"
   ]
  },
  {
   "cell_type": "markdown",
   "id": "f71f3a8b-2712-423c-9ba4-f2ab3f5ab355",
   "metadata": {},
   "source": [
    "#### Add all files to staging\n",
    "\n"
   ]
  },
  {
   "cell_type": "markdown",
   "id": "4e2e7bf8-fa96-4ac1-b666-d676663b5ade",
   "metadata": {},
   "source": [
    "##### git add .\n"
   ]
  },
  {
   "cell_type": "markdown",
   "id": "1530ae69-b5ab-4578-9585-76aeeee4b787",
   "metadata": {},
   "source": [
    "#### Commit changes with a message\n"
   ]
  },
  {
   "cell_type": "markdown",
   "id": "ab61aa50-44b6-4127-9a97-650cb1b8e4fd",
   "metadata": {},
   "source": [
    "##### git commit -m \"Commit message\"\n"
   ]
  },
  {
   "cell_type": "markdown",
   "id": "f28e4c6d-4d0c-4349-a050-fcd31454a20c",
   "metadata": {},
   "source": [
    "## 4. Branching\n",
    "\n"
   ]
  },
  {
   "cell_type": "markdown",
   "id": "4e867965-6ea5-4c83-967e-5935883810a7",
   "metadata": {},
   "source": [
    "### List all branches\n"
   ]
  },
  {
   "cell_type": "markdown",
   "id": "dbb65f02-3766-431b-b60f-ee940b922307",
   "metadata": {},
   "source": [
    "##### git branch\n"
   ]
  },
  {
   "cell_type": "markdown",
   "id": "f89543ab-31bb-4f6b-9545-070e1909a3e5",
   "metadata": {},
   "source": [
    "#### Create a new branch"
   ]
  },
  {
   "cell_type": "code",
   "execution_count": 49,
   "id": "d9d91451-beea-4e06-b45a-646eb0fa74dd",
   "metadata": {},
   "outputs": [
    {
     "ename": "SyntaxError",
     "evalue": "invalid syntax (2367723954.py, line 1)",
     "output_type": "error",
     "traceback": [
      "\u001b[1;36m  Cell \u001b[1;32mIn[49], line 1\u001b[1;36m\u001b[0m\n\u001b[1;33m    git branch <branch_name>\u001b[0m\n\u001b[1;37m        ^\u001b[0m\n\u001b[1;31mSyntaxError\u001b[0m\u001b[1;31m:\u001b[0m invalid syntax\n"
     ]
    }
   ],
   "source": [
    "git branch <branch_name>\n"
   ]
  },
  {
   "cell_type": "markdown",
   "id": "a0b054e3-de99-4957-96f3-36fc0e0c1030",
   "metadata": {},
   "source": [
    "#### Switch to a branch"
   ]
  },
  {
   "cell_type": "markdown",
   "id": "3f75fd3b-1c2b-4c21-a567-1f537de08b16",
   "metadata": {},
   "source": [
    "##### git checkout <branch_name>\n"
   ]
  },
  {
   "cell_type": "markdown",
   "id": "3c4d577f-c4f1-4e30-9736-0e270d3ac50f",
   "metadata": {},
   "source": [
    "#### Create and switch to a new branch"
   ]
  },
  {
   "cell_type": "markdown",
   "id": "b28e3572-dd85-4e63-b6fd-ff5e7a04acd7",
   "metadata": {},
   "source": [
    "##### git checkout -b <branch_name>\n"
   ]
  },
  {
   "cell_type": "markdown",
   "id": "e54ca900-c8ee-4ae9-bc3a-c8a1303bf131",
   "metadata": {},
   "source": [
    "#### Rename the current branch\n",
    "\n"
   ]
  },
  {
   "cell_type": "markdown",
   "id": "cbd710a7-6ae4-415d-8385-c93ecca90ff8",
   "metadata": {},
   "source": [
    "##### git branch -m <new_branch_name>\n"
   ]
  },
  {
   "cell_type": "markdown",
   "id": "59220b31-4aae-4f44-a9ab-a3b9dcc5c13e",
   "metadata": {},
   "source": [
    "## 5. Merging and Rebasing\n"
   ]
  },
  {
   "cell_type": "markdown",
   "id": "66eeb317-3cab-4d4a-b581-d4793a51c962",
   "metadata": {},
   "source": [
    "#### Merge another branch into your current branch\n",
    "\n"
   ]
  },
  {
   "cell_type": "markdown",
   "id": "af0a04b6-5313-47e7-9646-bf4eefe607f4",
   "metadata": {},
   "source": [
    "##### git merge <branch_name>\n"
   ]
  },
  {
   "cell_type": "markdown",
   "id": "2d79cb70-f695-41d2-a25f-9ceccf850fe6",
   "metadata": {},
   "source": [
    "#### Rebase your branch onto another branch"
   ]
  },
  {
   "cell_type": "markdown",
   "id": "645693d7-d1a5-4ab2-8946-253ae97684fe",
   "metadata": {},
   "source": [
    "##### git rebase <branch_name>\n"
   ]
  },
  {
   "cell_type": "markdown",
   "id": "e689b399-9eb6-48bd-adef-d12ee74136db",
   "metadata": {},
   "source": [
    "#### 6. Pulling and Pushing Changes\n"
   ]
  },
  {
   "cell_type": "markdown",
   "id": "6b64820b-3d45-40a8-83d3-ff5a8baafa8b",
   "metadata": {},
   "source": [
    "##### git pull origin <branch_name>\n"
   ]
  },
  {
   "cell_type": "code",
   "execution_count": null,
   "id": "8f634f0a-d26f-4166-819b-b2540d35ae4b",
   "metadata": {},
   "outputs": [],
   "source": []
  },
  {
   "cell_type": "markdown",
   "id": "9005193b-0e53-420f-b481-0184a563d052",
   "metadata": {},
   "source": [
    "#### Pull changes from the remote repository"
   ]
  },
  {
   "cell_type": "markdown",
   "id": "005bb07e-002f-4184-a506-b9099a14fa8c",
   "metadata": {},
   "source": [
    "##### git push origin <branch_name>\n"
   ]
  },
  {
   "cell_type": "markdown",
   "id": "3dc86234-30a5-4abe-9f6c-8079dc64e297",
   "metadata": {},
   "source": [
    "#### Set up tracking information and push"
   ]
  },
  {
   "cell_type": "markdown",
   "id": "0ada9de3-5af7-4bd5-a85e-54c93b370bb4",
   "metadata": {},
   "source": [
    "##### git push -u origin <branch_name>\n"
   ]
  },
  {
   "cell_type": "markdown",
   "id": "887e772d-8cfc-4974-9c9d-5bd8abd640c9",
   "metadata": {},
   "source": [
    "## 7. Undoing Changes"
   ]
  },
  {
   "cell_type": "markdown",
   "id": "3d5fa5d4-52f0-4c5f-8a59-1816c7d07b62",
   "metadata": {},
   "source": [
    "#### Unstage a file\n",
    "\n"
   ]
  },
  {
   "cell_type": "markdown",
   "id": "881f9c67-2b9c-4131-bbef-dc0db7eefe6a",
   "metadata": {},
   "source": [
    "##### git reset <file_name>\n"
   ]
  },
  {
   "cell_type": "markdown",
   "id": "ee5751f0-0829-4ced-a9fc-dd3a42789ed7",
   "metadata": {},
   "source": [
    "#### Undo the last commit (keep changes)"
   ]
  },
  {
   "cell_type": "markdown",
   "id": "306bfc0b-4371-4ea4-82d8-04bf04f3f801",
   "metadata": {},
   "source": [
    "##### git reset --soft HEAD~1\n"
   ]
  },
  {
   "cell_type": "markdown",
   "id": "fe11c1cd-4aad-47a7-8705-19d5f25c170b",
   "metadata": {},
   "source": [
    "#### Undo the last commit (discard changes)\n",
    "\n"
   ]
  },
  {
   "cell_type": "markdown",
   "id": "0ec3dd19-7175-4b34-b8db-8bf3d4fefef9",
   "metadata": {},
   "source": [
    "##### git reset --hard HEAD~1\n"
   ]
  },
  {
   "cell_type": "markdown",
   "id": "1de0d08b-ff4e-466b-a4d1-93405dc70f6a",
   "metadata": {},
   "source": [
    "#### Restore a file to the last committed state"
   ]
  },
  {
   "cell_type": "markdown",
   "id": "235065f4-0961-45ce-af9b-ccf2f4d978fb",
   "metadata": {},
   "source": [
    "#### git checkout -- <file_name>\n"
   ]
  },
  {
   "cell_type": "markdown",
   "id": "c9f0c93f-6b1b-44a0-aa7f-498ee74ff452",
   "metadata": {},
   "source": [
    "## 8. Working with Remotes"
   ]
  },
  {
   "cell_type": "markdown",
   "id": "852a5079-ab6b-474d-85e2-f3eec48158d5",
   "metadata": {},
   "source": [
    "#### Add a new remote"
   ]
  },
  {
   "cell_type": "markdown",
   "id": "fa5477cd-214c-43d8-a4af-61919692cb74",
   "metadata": {},
   "source": [
    "##### git remote add <name> <url>\n"
   ]
  },
  {
   "cell_type": "markdown",
   "id": "ceb96d53-9c82-4f77-af5c-bcb6be138e82",
   "metadata": {},
   "source": [
    "#### View all remotes\n",
    "\n"
   ]
  },
  {
   "cell_type": "markdown",
   "id": "25eb2e4d-0b1f-4210-9d3e-648656c5d8a5",
   "metadata": {},
   "source": [
    "##### git remote -v\n"
   ]
  },
  {
   "cell_type": "markdown",
   "id": "b6bd5af6-7612-44b2-bbaa-91ff0e3cf8ed",
   "metadata": {},
   "source": [
    "#### Remove a remote"
   ]
  },
  {
   "cell_type": "markdown",
   "id": "1508d391-61dc-4e00-8c50-d27babf2d327",
   "metadata": {},
   "source": [
    "##### git remote remove <name>\n"
   ]
  },
  {
   "cell_type": "markdown",
   "id": "a2637212-d143-4e4a-a04f-845360345e73",
   "metadata": {},
   "source": [
    "## 9. Viewing History and Logs"
   ]
  },
  {
   "cell_type": "markdown",
   "id": "5f8f4113-f898-415e-8c25-6ac38b51b1e2",
   "metadata": {},
   "source": [
    "### Show commit history"
   ]
  },
  {
   "cell_type": "markdown",
   "id": "4659c719-7aa5-432f-8256-082f0911c4cf",
   "metadata": {},
   "source": [
    "##### git log\n"
   ]
  },
  {
   "cell_type": "markdown",
   "id": "562b6726-5f69-4e6f-a937-22fc34493b72",
   "metadata": {},
   "source": [
    "#### Show commit history with one-line summaries"
   ]
  },
  {
   "cell_type": "markdown",
   "id": "4f9e3df9-9538-430a-94ce-7af2f3229ba5",
   "metadata": {},
   "source": [
    "##### git log --oneline\n"
   ]
  },
  {
   "cell_type": "markdown",
   "id": "ccf7e494-1255-44b9-bca2-266711085f53",
   "metadata": {},
   "source": [
    "#### Show a specific commit"
   ]
  },
  {
   "cell_type": "markdown",
   "id": "4f9c209d-460d-4b06-a205-2dae0c9f3298",
   "metadata": {},
   "source": [
    "##### git show <commit_hash>"
   ]
  },
  {
   "cell_type": "markdown",
   "id": "ad092461-4f46-4009-8d76-6bcceaa90de7",
   "metadata": {},
   "source": [
    "## 10. Stashing Changes"
   ]
  },
  {
   "cell_type": "markdown",
   "id": "530e350b-9501-4e48-bc4b-9cf1679a74d0",
   "metadata": {},
   "source": [
    "#### Stash uncommitted changes"
   ]
  },
  {
   "cell_type": "markdown",
   "id": "7b2211f2-0696-4862-b79e-7ef36b5323a1",
   "metadata": {},
   "source": [
    "##### git stash\n"
   ]
  },
  {
   "cell_type": "markdown",
   "id": "d0efe9cb-32d9-438b-9e4b-249a28822cb6",
   "metadata": {},
   "source": [
    "### List stashes"
   ]
  },
  {
   "cell_type": "markdown",
   "id": "0caa1e48-a5bc-4432-9135-147b594cc48d",
   "metadata": {},
   "source": [
    "##### git stash list\n"
   ]
  },
  {
   "cell_type": "markdown",
   "id": "150a0ce7-ae9e-40b3-aa0b-5d2bc8372be8",
   "metadata": {},
   "source": [
    "#### Apply the latest stash"
   ]
  },
  {
   "cell_type": "markdown",
   "id": "b2e77401-cc88-4c9a-89ed-9c93e1eeeae9",
   "metadata": {},
   "source": [
    "##### git stash apply\n"
   ]
  },
  {
   "cell_type": "markdown",
   "id": "f447db66-7d0b-4e69-bded-66361aa3867a",
   "metadata": {},
   "source": [
    "#### Apply and drop a specific stash\n",
    "\n"
   ]
  },
  {
   "cell_type": "markdown",
   "id": "1a02e31c-87cf-426c-b84b-b1d5a0718342",
   "metadata": {},
   "source": [
    "##### git stash pop <stash_id>\n"
   ]
  },
  {
   "cell_type": "markdown",
   "id": "ea5ff540-a298-42b6-8784-3cb6a0ce3697",
   "metadata": {},
   "source": [
    "## 11. Git Large File Storage (LFS)\n",
    "\n"
   ]
  },
  {
   "cell_type": "markdown",
   "id": "f7bd19fd-aad9-4038-8893-f8a46ec0a597",
   "metadata": {},
   "source": [
    "#### Install Git LFS\n",
    "\n"
   ]
  },
  {
   "cell_type": "markdown",
   "id": "faa21c40-6668-4f61-99ec-4348f38aed5d",
   "metadata": {},
   "source": [
    "##### git lfs install\n"
   ]
  },
  {
   "cell_type": "markdown",
   "id": "791ef6b9-4222-4d7b-a4a5-19ba8116e7c4",
   "metadata": {},
   "source": [
    "#### Track a large file with LFS\n",
    "\n"
   ]
  },
  {
   "cell_type": "markdown",
   "id": "96f3cf04-7cca-48a4-b34b-f0dba2772ad0",
   "metadata": {},
   "source": [
    "##### git lfs track \"<file_name>\"\n"
   ]
  },
  {
   "cell_type": "markdown",
   "id": "9eaeaa3e-6292-401a-913f-4e282d34ba27",
   "metadata": {},
   "source": [
    "#### Push LFS-tracked files\n",
    "\n"
   ]
  },
  {
   "cell_type": "markdown",
   "id": "89b8dda0-37f5-4239-9386-be4e58cc61d7",
   "metadata": {},
   "source": [
    "##### git push origin <branch_name>\n"
   ]
  },
  {
   "cell_type": "markdown",
   "id": "54f0c657-4b85-4cd0-bd08-ec3fe2b375b4",
   "metadata": {},
   "source": [
    "## 12. Git Configurations and Helpers\n"
   ]
  },
  {
   "cell_type": "markdown",
   "id": "09d01d8f-6889-43d3-ab77-bd133ea5ca0e",
   "metadata": {},
   "source": [
    "#### Check global configuration"
   ]
  },
  {
   "cell_type": "markdown",
   "id": "6cf82711-71ad-4a61-bac4-a43910f20f7c",
   "metadata": {},
   "source": [
    "##### git config --list\n"
   ]
  },
  {
   "cell_type": "markdown",
   "id": "6a4d0453-d6ae-48d2-9f12-bfdd827cae9a",
   "metadata": {},
   "source": [
    "### Enable color output in Git"
   ]
  },
  {
   "cell_type": "markdown",
   "id": "e75c1634-bead-4edd-b192-29b18123191e",
   "metadata": {},
   "source": [
    "##### git config --global color.ui auto\n"
   ]
  },
  {
   "cell_type": "code",
   "execution_count": null,
   "id": "92c6e60c-6f70-4a5c-ad87-7bbc25961e24",
   "metadata": {},
   "outputs": [],
   "source": []
  }
 ],
 "metadata": {
  "kernelspec": {
   "display_name": "Python 3 (ipykernel)",
   "language": "python",
   "name": "python3"
  },
  "language_info": {
   "codemirror_mode": {
    "name": "ipython",
    "version": 3
   },
   "file_extension": ".py",
   "mimetype": "text/x-python",
   "name": "python",
   "nbconvert_exporter": "python",
   "pygments_lexer": "ipython3",
   "version": "3.12.4"
  }
 },
 "nbformat": 4,
 "nbformat_minor": 5
}
